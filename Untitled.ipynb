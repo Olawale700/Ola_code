{
 "cells": [
  {
   "cell_type": "markdown",
   "id": "db01e722",
   "metadata": {},
   "source": [
    "### i am alive\"\n",
    "this program display i am alive"
   ]
  },
  {
   "cell_type": "code",
   "execution_count": 1,
   "id": "ebea51a6",
   "metadata": {},
   "outputs": [
    {
     "name": "stdout",
     "output_type": "stream",
     "text": [
      "9\n",
      "1\n",
      "20\n",
      "1.25\n",
      "0.8\n",
      "625\n",
      "1024\n",
      "1\n",
      "4\n",
      "1\n",
      "0\n"
     ]
    }
   ],
   "source": [
    "a=5\n",
    "b=4\n",
    "print(a + b)\n",
    "print(a - b)\n",
    "print(a * b)\n",
    "print(a / b)\n",
    "print(b / a)\n",
    "print(a ** b)\n",
    "print(b ** a)\n",
    "print(a % b)# %=return remainder 5%4= 1r1=1\n",
    "print(b % a) #4%5=0r4=4\n",
    "print(a // b)# floor division/ integer division 5//4=5/4=1r1=1\n",
    "print(b // a)# 4//5=4/5=0r4=0\n"
   ]
  },
  {
   "cell_type": "code",
   "execution_count": 2,
   "id": "c919d548",
   "metadata": {},
   "outputs": [
    {
     "name": "stdout",
     "output_type": "stream",
     "text": [
      "36.0\n"
     ]
    }
   ],
   "source": [
    "g=5\n",
    "h=4\n",
    "x=g * 2+ h / 4 % 3 + 5 ** 2\n",
    "print(x)"
   ]
  },
  {
   "cell_type": "code",
   "execution_count": 10,
   "id": "e3313151",
   "metadata": {},
   "outputs": [
    {
     "name": "stdout",
     "output_type": "stream",
     "text": [
      "enter your age:Ahmed\n",
      "Enter salary:5000\n",
      "Ahmed earns 5000\n",
      "<class 'str'>\n"
     ]
    }
   ],
   "source": [
    "name = input(\"enter your age:\")\n",
    "salary = input(\"Enter salary:\")\n",
    "             \n",
    "print(name, \"earns\", salary)\n",
    "print(type(salary))\n",
    "             "
   ]
  },
  {
   "cell_type": "code",
   "execution_count": 9,
   "id": "b2292cd9",
   "metadata": {},
   "outputs": [
    {
     "name": "stdout",
     "output_type": "stream",
     "text": [
      "ENTER PASSWORD:SKY\n",
      "SKY\n"
     ]
    }
   ],
   "source": [
    "X = input(\"ENTER PASSWORD:\")\n",
    "print(X)"
   ]
  },
  {
   "cell_type": "code",
   "execution_count": 9,
   "id": "6ec78258",
   "metadata": {},
   "outputs": [
    {
     "name": "stdout",
     "output_type": "stream",
     "text": [
      "enter your name:Ahmed\n",
      "enter salary:5000\n",
      "Enter age:20\n",
      "What do you do:Banker\n",
      "I'm Ahmed, 20-yearsold, work as a Banker,i pay 500.0 of my #5000.0 as tithe\n"
     ]
    }
   ],
   "source": [
    "name = input('enter your name:')\n",
    "salary = float(input('enter salary:'))\n",
    "age=int(input('Enter age:'))\n",
    "occupation=input('What do you do:')\n",
    "tithe= 0.1 * salary\n",
    "print(\"I'm \" + name+', '+str(age)+'-yearsold, work as a ' + occupation+',' +'i pay ' +str(tithe)+ ' of my #'+ str(salary)+ ' as tithe')\n",
    "print()\n",
    "\n"
   ]
  },
  {
   "cell_type": "code",
   "execution_count": null,
   "id": "1c187b2b",
   "metadata": {},
   "outputs": [],
   "source": [
    "x2=5\n",
    "x3=0.1 * x2\n",
    "print(x3)"
   ]
  },
  {
   "cell_type": "code",
   "execution_count": 14,
   "id": "008179ee",
   "metadata": {},
   "outputs": [
    {
     "name": "stdout",
     "output_type": "stream",
     "text": [
      "Enter firstname:Ahmed\n",
      "Enter lastname:Ola\n",
      "Enter salary5000\n",
      "Enter age:20\n",
      "What do you do:Baker\n",
      "I'm Ahmed Ola, 20-old, work as a Baker.I pay 500.00 of my #5,000.00 as tithe.\n",
      "I'm Ahmed Ola, 20-old, work as a Baker.I pay 500.00 of my #5,000.00 as tithe.\n"
     ]
    }
   ],
   "source": [
    "firstname=input('Enter firstname:')\n",
    "lastname=input('Enter lastname:')\n",
    "\n",
    "salary=float(input('Enter salary'))\n",
    "age=int(input('Enter age:'))\n",
    "occupation=input('What do you do:')\n",
    "tithe=0.1 * salary\n",
    "print(\"I'm {} {}, {}-old, work as a {}.I pay {:,.2f} of my #{:,.2f} as tithe.\". format(firstname,lastname,age,occupation,tithe,salary) )\n",
    "print(f\"I'm {firstname} {lastname}, {age}-old, work as a {occupation}.I pay {tithe:,.2f} of my #{salary:,.2f} as tithe.\")\n"
   ]
  },
  {
   "cell_type": "code",
   "execution_count": 8,
   "id": "33ded7b0",
   "metadata": {},
   "outputs": [
    {
     "name": "stdout",
     "output_type": "stream",
     "text": [
      "6\n",
      "True\n",
      "True\n",
      "7\n",
      "[3, 'a', '3', 5, True, {4, 5}, 'hello']\n",
      "[3, 'a', '3', 5, 'joy', True, {4, 5}, 'hello']\n",
      "1\n",
      "1\n"
     ]
    }
   ],
   "source": [
    "d_list=[3,'a','3',5,True,{4, 5}]\n",
    "print(len(d_list))\n",
    "print(d_list[4])\n",
    "print(d_list[-2])\n",
    "d_list.append('hello')\n",
    "print(len(d_list))\n",
    "print((d_list))\n",
    "d_list.insert(4,'joy')\n",
    "print(d_list)\n",
    "print(d_list.count(3))\n",
    "print(d_list.count(5))"
   ]
  },
  {
   "cell_type": "code",
   "execution_count": 47,
   "id": "97e89336",
   "metadata": {},
   "outputs": [
    {
     "name": "stdout",
     "output_type": "stream",
     "text": [
      "12\n",
      "[1, 1, 2, 3, 4, 4, 5, 8, 9, 9, 10, 10]\n",
      "[10, 10, 9, 9, 8, 5, 4, 4, 3, 2, 1, 1]\n",
      "[10, 10, 9, 9, 8, 5, 4, 4, 3, 2, 1, 1]\n",
      "[10, 10, 9, 9, 8, 5, 4, 4, 3, 2, 1, 1, 6]\n",
      "[10, 9, 9, 8, 5, 4, 4, 3, 2, 1, 1, 6]\n",
      "[10, 8, 5, 4, 4, 3, 2, 1, 1, 6]\n",
      "[10, 10, 8, 5, 4, 4, 3, 2, 1, 1, 6]\n"
     ]
    }
   ],
   "source": [
    "A=[2,1,3,5,4,1,8,9,4,9,10,10]\n",
    "print(len(A))\n",
    "A.sort()\n",
    "print(A)\n",
    "A.reverse()\n",
    "print(A)\n",
    "A.sort(reverse=True)\n",
    "print(A)\n",
    "A.append(6)\n",
    "print(A)\n",
    "A.remove(10)\n",
    "\n",
    "print(A)\n",
    "del A[1:3]\n",
    "print(A)\n",
    "A.insert(0,10)\n",
    "print(A)"
   ]
  },
  {
   "cell_type": "code",
   "execution_count": 1,
   "id": "db16f880",
   "metadata": {},
   "outputs": [
    {
     "name": "stdout",
     "output_type": "stream",
     "text": [
      "9\n",
      "5\n",
      "[5, 3, 23, 8, ['3', 5, 1], 8.3, 10, 4, 4]\n",
      "5\n",
      "[3, 23, 8]\n",
      "[3, 8, 8.3, 4]\n"
     ]
    },
    {
     "data": {
      "text/plain": [
       "list"
      ]
     },
     "execution_count": 1,
     "metadata": {},
     "output_type": "execute_result"
    }
   ],
   "source": [
    "a_list=[5,3,23,8,['3',5,1],8.3,10,4,4]\n",
    "print(len(a_list))\n",
    "print(a_list[0])\n",
    "print(a_list)\n",
    "print(a_list[4][1])\n",
    "print(a_list[1:4])\n",
    "print(a_list[1:10:2])\n",
    "type(a_list)"
   ]
  },
  {
   "cell_type": "code",
   "execution_count": 2,
   "id": "b61b533f",
   "metadata": {},
   "outputs": [
    {
     "name": "stdout",
     "output_type": "stream",
     "text": [
      "(6, 8, 4, 9)\n"
     ]
    }
   ],
   "source": [
    "tup1=6,8,4\n",
    "tup2=9,\n",
    "tup1=tup1 + tup2\n",
    "print(tup1)"
   ]
  },
  {
   "cell_type": "code",
   "execution_count": null,
   "id": "b36e9d9a",
   "metadata": {},
   "outputs": [],
   "source": [
    "\n",
    "# r= range(start, end, stepwise)\n",
    "\n",
    "r=range(10) #start=0, end= 10, step=1\n",
    "r=range(10,5) #start=10, end=5 step=1\n",
    "r=range(10, 5, 3) #start=10, end=5 step=3; note this wont print\n"
   ]
  },
  {
   "cell_type": "code",
   "execution_count": 32,
   "id": "074d9d7e",
   "metadata": {},
   "outputs": [
    {
     "name": "stdout",
     "output_type": "stream",
     "text": [
      "range(0, 10)\n",
      "10\n",
      "8\n",
      "6\n"
     ]
    }
   ],
   "source": [
    "r1= range(10)\n",
    "r2= range(10,5,-2)\n",
    "print(r1)\n",
    "for x in r2:\n",
    "    print(x)"
   ]
  },
  {
   "cell_type": "code",
   "execution_count": 31,
   "id": "e59dd5e0",
   "metadata": {},
   "outputs": [
    {
     "name": "stdout",
     "output_type": "stream",
     "text": [
      "10\n",
      "8\n",
      "6\n"
     ]
    }
   ],
   "source": [
    "r= range(10,5,-2)\n",
    "for x in r:\n",
    "    print(x)"
   ]
  },
  {
   "cell_type": "code",
   "execution_count": 33,
   "id": "5435c1f3",
   "metadata": {},
   "outputs": [
    {
     "name": "stdout",
     "output_type": "stream",
     "text": [
      "99999999\n",
      "{'bola': '99999999', 'top': '012345566'}\n",
      "bola\n",
      "top\n"
     ]
    }
   ],
   "source": [
    "d={'bola':'99999999','top':'012345566'}\n",
    "print(d['bola'])\n",
    "len(d)\n",
    "'bola' in d\n",
    "if 'bola' in d :\n",
    "    print(d)\n",
    "d['bola']\n",
    "d.get('top')\n",
    "d.keys()\n",
    "d.values()\n",
    "d.items()\n",
    "for x in d:\n",
    "    print(x)"
   ]
  },
  {
   "cell_type": "code",
   "execution_count": 36,
   "id": "a12998e1",
   "metadata": {},
   "outputs": [
    {
     "data": {
      "text/plain": [
       "'012345566'"
      ]
     },
     "execution_count": 36,
     "metadata": {},
     "output_type": "execute_result"
    }
   ],
   "source": [
    "d.get('top')\n"
   ]
  },
  {
   "cell_type": "code",
   "execution_count": 37,
   "id": "2018fe88",
   "metadata": {},
   "outputs": [
    {
     "data": {
      "text/plain": [
       "dict_keys(['bola', 'top'])"
      ]
     },
     "execution_count": 37,
     "metadata": {},
     "output_type": "execute_result"
    }
   ],
   "source": [
    "\n",
    "d.keys()"
   ]
  },
  {
   "cell_type": "code",
   "execution_count": 38,
   "id": "ffd34ca9",
   "metadata": {},
   "outputs": [
    {
     "data": {
      "text/plain": [
       "4"
      ]
     },
     "execution_count": 38,
     "metadata": {},
     "output_type": "execute_result"
    }
   ],
   "source": [
    "#sets is like list that doesnt store duplicate value\"\n",
    "\n",
    "s={4,5,2,3,2,3,4,2,3,3,4}\n",
    "len(s)\n",
    "\n",
    "\n",
    "\n"
   ]
  },
  {
   "cell_type": "code",
   "execution_count": 41,
   "id": "70ecedd9",
   "metadata": {},
   "outputs": [
    {
     "data": {
      "text/plain": [
       "5"
      ]
     },
     "execution_count": 41,
     "metadata": {},
     "output_type": "execute_result"
    }
   ],
   "source": [
    "s.add(7)\n",
    "len(s)"
   ]
  },
  {
   "cell_type": "code",
   "execution_count": 42,
   "id": "0304770c",
   "metadata": {},
   "outputs": [
    {
     "data": {
      "text/plain": [
       "{2, 3, 4, 5, 7}"
      ]
     },
     "execution_count": 42,
     "metadata": {},
     "output_type": "execute_result"
    }
   ],
   "source": [
    "s\n",
    "\n"
   ]
  },
  {
   "cell_type": "code",
   "execution_count": 43,
   "id": "bf7f6226",
   "metadata": {},
   "outputs": [
    {
     "data": {
      "text/plain": [
       "5"
      ]
     },
     "execution_count": 43,
     "metadata": {},
     "output_type": "execute_result"
    }
   ],
   "source": [
    "list(s)[3]"
   ]
  },
  {
   "cell_type": "code",
   "execution_count": 14,
   "id": "a2db5f54",
   "metadata": {},
   "outputs": [
    {
     "data": {
      "text/plain": [
       "{4, 10}"
      ]
     },
     "execution_count": 14,
     "metadata": {},
     "output_type": "execute_result"
    }
   ],
   "source": [
    "setA={4,5,'A',2,10}\n",
    "setB={'a','5',4,10,8,3}\n",
    "setA.intersection(setB)\n"
   ]
  },
  {
   "cell_type": "code",
   "execution_count": 96,
   "id": "a6d39f14",
   "metadata": {},
   "outputs": [
    {
     "data": {
      "text/plain": [
       "{2, 5, 'A'}"
      ]
     },
     "execution_count": 96,
     "metadata": {},
     "output_type": "execute_result"
    }
   ],
   "source": [
    "setA.difference(setB)\n"
   ]
  },
  {
   "cell_type": "code",
   "execution_count": 97,
   "id": "bcdaf4a3",
   "metadata": {},
   "outputs": [
    {
     "data": {
      "text/plain": [
       "{3, '5', 8, 'a'}"
      ]
     },
     "execution_count": 97,
     "metadata": {},
     "output_type": "execute_result"
    }
   ],
   "source": [
    "setB.difference(setA)"
   ]
  },
  {
   "cell_type": "code",
   "execution_count": 85,
   "id": "d65503e1",
   "metadata": {},
   "outputs": [
    {
     "data": {
      "text/plain": [
       "{10, 2, 3, 4, '5', 5, 'A', 'a'}"
      ]
     },
     "execution_count": 85,
     "metadata": {},
     "output_type": "execute_result"
    }
   ],
   "source": [
    "setA.union(setB)"
   ]
  },
  {
   "cell_type": "code",
   "execution_count": 98,
   "id": "3b068403",
   "metadata": {},
   "outputs": [
    {
     "data": {
      "text/plain": [
       "{2, 3, '5', 5, 8, 'A', 'a'}"
      ]
     },
     "execution_count": 98,
     "metadata": {},
     "output_type": "execute_result"
    }
   ],
   "source": [
    "setA.symmetric_difference(setB)"
   ]
  },
  {
   "cell_type": "code",
   "execution_count": 4,
   "id": "96218ce1",
   "metadata": {},
   "outputs": [
    {
     "data": {
      "text/plain": [
       "{10, 3, 4, '5', 'a'}"
      ]
     },
     "execution_count": 4,
     "metadata": {},
     "output_type": "execute_result"
    }
   ],
   "source": [
    "setB"
   ]
  },
  {
   "cell_type": "code",
   "execution_count": 5,
   "id": "58035b8d",
   "metadata": {},
   "outputs": [],
   "source": [
    "setB.remove(10)\n"
   ]
  },
  {
   "cell_type": "code",
   "execution_count": 6,
   "id": "d6d1d887",
   "metadata": {},
   "outputs": [
    {
     "data": {
      "text/plain": [
       "{3, 4, '5', 'a'}"
      ]
     },
     "execution_count": 6,
     "metadata": {},
     "output_type": "execute_result"
    }
   ],
   "source": [
    "setB"
   ]
  },
  {
   "cell_type": "code",
   "execution_count": 8,
   "id": "c2dcef17",
   "metadata": {},
   "outputs": [],
   "source": [
    "setB.discard(8)"
   ]
  },
  {
   "cell_type": "code",
   "execution_count": 15,
   "id": "209ee341",
   "metadata": {},
   "outputs": [
    {
     "data": {
      "text/plain": [
       "{10, 3, 4, '5', 8, 'a'}"
      ]
     },
     "execution_count": 15,
     "metadata": {},
     "output_type": "execute_result"
    }
   ],
   "source": [
    "setB"
   ]
  },
  {
   "cell_type": "code",
   "execution_count": 16,
   "id": "3f71af34",
   "metadata": {},
   "outputs": [
    {
     "data": {
      "text/plain": [
       "3"
      ]
     },
     "execution_count": 16,
     "metadata": {},
     "output_type": "execute_result"
    }
   ],
   "source": [
    "setB.pop()"
   ]
  },
  {
   "cell_type": "code",
   "execution_count": 110,
   "id": "e4365cc1",
   "metadata": {},
   "outputs": [
    {
     "data": {
      "text/plain": [
       "{4, 'a'}"
      ]
     },
     "execution_count": 110,
     "metadata": {},
     "output_type": "execute_result"
    }
   ],
   "source": [
    "setB"
   ]
  },
  {
   "cell_type": "code",
   "execution_count": 116,
   "id": "77da42a8",
   "metadata": {},
   "outputs": [
    {
     "name": "stdout",
     "output_type": "stream",
     "text": [
      "5\n",
      "3\n",
      "23\n",
      "8\n",
      "['3', 5, 1]\n",
      "8.3\n",
      "10\n",
      "4\n",
      "4\n"
     ]
    }
   ],
   "source": [
    "for i in a_list:\n",
    "    print(i)"
   ]
  },
  {
   "cell_type": "code",
   "execution_count": 14,
   "id": "add250d4",
   "metadata": {},
   "outputs": [
    {
     "name": "stdout",
     "output_type": "stream",
     "text": [
      "0\n",
      "1\n",
      "2\n",
      "3\n",
      "4\n",
      "5\n",
      "6\n",
      "7\n",
      "8\n"
     ]
    }
   ],
   "source": [
    "for i in range(len(a_list)):\n",
    "    print(i)"
   ]
  },
  {
   "cell_type": "code",
   "execution_count": 11,
   "id": "0b97ab7a",
   "metadata": {},
   "outputs": [
    {
     "name": "stdout",
     "output_type": "stream",
     "text": [
      "5\n",
      "3\n",
      "23\n",
      "8\n",
      "['3', 5, 1]\n",
      "8.3\n",
      "10\n",
      "4\n",
      "4\n"
     ]
    }
   ],
   "source": [
    "i= 0\n",
    "while i <len(a_list):\n",
    "    print(a_list[i])\n",
    "    i+=1\n",
    "    \n",
    "    \n",
    "    "
   ]
  },
  {
   "cell_type": "code",
   "execution_count": 12,
   "id": "10a4b1b1",
   "metadata": {},
   "outputs": [
    {
     "name": "stdout",
     "output_type": "stream",
     "text": [
      "5\n",
      "3\n",
      "23\n",
      "8\n",
      "['3', 5, 1]\n"
     ]
    }
   ],
   "source": [
    "i= 0\n",
    "while i <a_list[0]:\n",
    "    print(a_list[i])\n",
    "    i+=1\n",
    "    "
   ]
  },
  {
   "cell_type": "code",
   "execution_count": 3,
   "id": "8b3e3a14",
   "metadata": {},
   "outputs": [
    {
     "name": "stdout",
     "output_type": "stream",
     "text": [
      "Enter a value(e to exit):e\n"
     ]
    }
   ],
   "source": [
    "while True:\n",
    "    if input('Enter a value(e to exit):').upper() == 'E':\n",
    "        break\n",
    "    print('hello')"
   ]
  },
  {
   "cell_type": "code",
   "execution_count": 2,
   "id": "09900afa",
   "metadata": {},
   "outputs": [
    {
     "name": "stdout",
     "output_type": "stream",
     "text": [
      "firstname:Ahmed\n",
      "lastname:Bajegbo\n",
      "phone no:0805386\n",
      "{'Ahmed': '0805386'}\n",
      "0805386\n"
     ]
    }
   ],
   "source": [
    " firstname=input('firstname:')\n",
    "lastname= input('lastname:')\n",
    "telephone= str(input('phone no:'))\n",
    "saved={f\"{firstname}\":f\"{telephone}\"}\n",
    "print(saved)\n",
    "for x in saved.values():\n",
    "    print(x)\n",
    "\n",
    "\n",
    "    \n"
   ]
  },
  {
   "cell_type": "code",
   "execution_count": 5,
   "id": "f523b72c",
   "metadata": {},
   "outputs": [
    {
     "data": {
      "text/plain": [
       "dict"
      ]
     },
     "execution_count": 5,
     "metadata": {},
     "output_type": "execute_result"
    }
   ],
   "source": [
    "type(saved)\n"
   ]
  },
  {
   "cell_type": "code",
   "execution_count": null,
   "id": "b4081588",
   "metadata": {},
   "outputs": [],
   "source": [
    "contacts={}\n",
    "print('my contact')\n",
    "while True:\n",
    "    print(\\n[1]: )\n",
    "    "
   ]
  },
  {
   "cell_type": "code",
   "execution_count": 11,
   "id": "b0f1558e",
   "metadata": {},
   "outputs": [
    {
     "ename": "SyntaxError",
     "evalue": "invalid syntax (<ipython-input-11-df5ff69015fc>, line 47)",
     "output_type": "error",
     "traceback": [
      "\u001b[1;36m  File \u001b[1;32m\"<ipython-input-11-df5ff69015fc>\"\u001b[1;36m, line \u001b[1;32m47\u001b[0m\n\u001b[1;33m    elif choice == '#':\u001b[0m\n\u001b[1;37m    ^\u001b[0m\n\u001b[1;31mSyntaxError\u001b[0m\u001b[1;31m:\u001b[0m invalid syntax\n"
     ]
    }
   ],
   "source": []
  },
  {
   "cell_type": "code",
   "execution_count": null,
   "id": "e9a8119c",
   "metadata": {},
   "outputs": [],
   "source": [
    "if in contacts:\n",
    "    "
   ]
  },
  {
   "cell_type": "code",
   "execution_count": 1,
   "id": "cdfc1ac9",
   "metadata": {},
   "outputs": [
    {
     "name": "stdout",
     "output_type": "stream",
     "text": [
      "My Contact List...\n",
      "[1]: Add Contact\n",
      "[2]: Search for Contact\n",
      "[3]:Edit contact\n",
      "[4]: Delete\n",
      "[#]: Quit\n",
      "Enter option: #\n"
     ]
    }
   ],
   "source": [
    "contacts = {}\n",
    "\n",
    "print('My Contact List...')\n",
    "while True:\n",
    "    print('[1]: Add Contact')\n",
    "    print('[2]: Search for Contact')\n",
    "    print('[3]:Edit contact')\n",
    "    print('[4]: Delete')\n",
    "    print('[#]: Quit')\n",
    "\n",
    "    choice = input('Enter option: ')\n",
    "\n",
    "    if choice == '1':\n",
    "        fname = input('Firstname: ').title()\n",
    "        lname = input('Lastname: ').title()\n",
    "        add = input('Address: ').title()\n",
    "        \n",
    "        trial = input('Save as...').lower()\n",
    "       \n",
    "        contacts[trial]={'fname': fname, 'lname': lname,'add': add}\n",
    "        \n",
    "    elif choice == '2':\n",
    "        kiss = input('Contact...').lower()\n",
    "        \n",
    "        #contact = contacts.get(key)\n",
    "        if kiss in contacts:\n",
    "            print(f\"\\nFirstname: {contacts[trial]['fname']}\")\n",
    "            print(f\"lastname: {contacts[trial].get('lname')}\")\n",
    "            print(f\"Address: {contacts[trial].get('add')}\")\n",
    "        else:\n",
    "            print('Contact does not exist')\n",
    "    elif choice == '3':\n",
    "        kass= input('edit contact...').lower()\n",
    "        if kass in contacts:\n",
    "            \n",
    "           \n",
    "            contacts[trial]['fname'] = input('change name....')\n",
    "        else:\n",
    "            print('name not found')\n",
    "    elif choice == '4':\n",
    "        kess= input('what do you want to delete...')\n",
    "        if kess in contacts:\n",
    "            koss=input('are you sure you want to delete' +''+kess)\n",
    "            if koss == 'yes':\n",
    "                 del contacts[trial]['fname']\n",
    "    \n",
    "    elif choice == '#':\n",
    "            break\n"
   ]
  },
  {
   "cell_type": "code",
   "execution_count": null,
   "id": "a6fcd8b9",
   "metadata": {},
   "outputs": [
    {
     "name": "stdout",
     "output_type": "stream",
     "text": [
      "My Contact List...\n",
      "\n",
      "[1]: Add Contact\n",
      "[2]: Search for Contact\n",
      "[3]: Edit Contact\n",
      "[4]: Delete Contact\n",
      "[#]: Quit\n",
      "\n"
     ]
    }
   ],
   "source": [
    "contacts = {}\n",
    "\n",
    "print('My Contact List...')\n",
    "while True:\n",
    "    print('\\n[1]: Add Contact')\n",
    "    print('[2]: Search for Contact')\n",
    "    print('[3]: Edit Contact')\n",
    "    print('[4]: Delete Contact')\n",
    "    print('[#]: Quit\\n')\n",
    "\n",
    "    choice = input('Enter option: ')\n",
    "\n",
    "    if choice == '1':\n",
    "        fname = input('Firstname: ').title()\n",
    "        lname = input('Lastname: ').title()\n",
    "        add = input('Address: ').title()\n",
    "        phones = []\n",
    "        \n",
    "        while True:\n",
    "            phone = input(f'Enter Phone {len(phones)+1}: ')\n",
    "            if phone not in phones:\n",
    "                phones.append(phone)\n",
    "                if phone in phones:\n",
    "                    print(f'{phone} successfully added...')\n",
    "                else:\n",
    "                    print(f'{phone} not added\\nTechnical Issue')\n",
    "            else:\n",
    "                print(f'{phone} already exist')\n",
    "    \n",
    "            if input('Do you want to add more? Y/N').upper() != 'Y':\n",
    "                break\n",
    "        \n",
    "        key = input('Save as...').lower()\n",
    "        contacts[key] = {'fname': fname, 'lname': lname,\n",
    "                         'add': add, 'phones': phones}\n",
    "        \n",
    "    elif choice == '2':\n",
    "        key = input('Contact...').lower()\n",
    "        \n",
    "        if key in contacts:\n",
    "            print(f\"\\nFirstname: {contacts[key]['fname']}\")\n",
    "            print(f\"lastname: {contacts[key].get('lname')}\")\n",
    "            print(f\"Address: {contacts[key].get('add')}\")\n",
    "            print(f\"Phones: {contacts[key].get('phones')}\")\n",
    "        else:\n",
    "            print(f'Contact {key} does not exist')\n",
    "    elif choice == '3':\n",
    "        trial = 3\n",
    "        while True:\n",
    "            print('[1]: Edit Firstname: ')\n",
    "            print('[2]: Edit lastname: ')\n",
    "            print('[3]: Edit Address: ')\n",
    "            print('[4]: Edit Phone Nos: ')\n",
    "            print('[#]: Back...')\n",
    "            choice = input('Enter option: ')\n",
    "            \n",
    "            if choice == '1':\n",
    "                new_fname = input('Enter New Firstname: ')\n",
    "                contacts[key]['fname'] = new_fname\n",
    "            elif choice == '2':\n",
    "                new_lname = input('Enter New Lastname: ')\n",
    "                contacts[key]['lname'] = new_lname\n",
    "            elif choice == '3':\n",
    "                new_add = input('Enter New Address: ')\n",
    "                contacts[key]['add'] = new_add\n",
    "            elif choice == '4':\n",
    "                while True:\n",
    "                    print('[1]: New Phone No')\n",
    "                    print('[2]: Edit Phone No')\n",
    "                    print('[3]: Remove Phone No')\n",
    "                    print('[#]: Back')\n",
    "                    option = input('Enter option: ')\n",
    "                    if option == '1':\n",
    "                        new_phone = input(f\"Enter phone {len(contacts[key]['phones'])+1}:\")\n",
    "                        if new_phone not in contacts[key]['phones']:\n",
    "                            contacts[key]['phones'].append(new_phone)\n",
    "                            if new_phone in contacts[key]['phones']:\n",
    "                                print(f'{new_phone} successfully added')\n",
    "                            else:\n",
    "                                print(f'{new_phone} not added.\\nTechnical Issue')\n",
    "                        else:\n",
    "                            print(f'{new_phone} already exist...')\n",
    "                    elif option == '2':\n",
    "                        for index in range(len(contacts[key]['phones'])):\n",
    "                            print(f\"{index}: {contacts[key]['phones'][index]}\")\n",
    "                            \n",
    "                        index = int(input('Enter phone index: '))\n",
    "                        new_no = input('Enter New Phone No: ')\n",
    "                        if new_no not in contacts[key]['phones']:\n",
    "                            contacts[key]['phones'][index] = new_no\n",
    "                            if new_no in contacts[key]['phones']:\n",
    "                                print(f'{new_no} changed successfully..')\n",
    "                            else:\n",
    "                                print(f'{new_no} not changed..\\nTechnical Issue')\n",
    "                        else:\n",
    "                            print(f'{new_no} already exist')\n",
    "                    elif option == '3':\n",
    "                        pass\n",
    "                    elif option == '#':\n",
    "                        break\n",
    "                    else:\n",
    "                        print('Invalid option')\n",
    "                        break\n",
    "                    \n",
    "            elif choice == '#':\n",
    "                break\n",
    "            else:\n",
    "                print('Invalid option')\n",
    "                trial -= 1\n",
    "                if trial == 0:\n",
    "                    break\n",
    "                \n",
    "    elif choice == '4':   \n",
    "        key = input('Contact...').lower()\n",
    "        \n",
    "        if key in contacts:\n",
    "            if input('Confirm delete? Y/N').upper() == 'Y':\n",
    "                del contacts[key]\n",
    "                if key not in contacts:\n",
    "                    print(f'Contact {key} successfully deleted')\n",
    "                else:\n",
    "                    print(f'Contact {key} not deleted')\n",
    "        else:\n",
    "            print(f'Contact {key} does not exist')\n",
    "        \n",
    "    elif choice == '#':\n",
    "        break"
   ]
  },
  {
   "cell_type": "code",
   "execution_count": 2,
   "id": "ad5e1bf2",
   "metadata": {},
   "outputs": [
    {
     "name": "stdout",
     "output_type": "stream",
     "text": [
      "2\n"
     ]
    }
   ],
   "source": [
    "print(1+1)"
   ]
  },
  {
   "cell_type": "code",
   "execution_count": 9,
   "id": "a039b9de",
   "metadata": {},
   "outputs": [
    {
     "name": "stdout",
     "output_type": "stream",
     "text": [
      "0\n",
      "1\n",
      "1\n",
      "2\n",
      "2\n",
      "3\n",
      "3\n",
      "4\n",
      "4\n",
      "5\n",
      "5\n",
      "6\n",
      "6\n",
      "6\n",
      "7\n",
      "7\n",
      "8\n",
      "7\n"
     ]
    }
   ],
   "source": [
    "apple=[1,2,3,4,5,6,6,7,7]\n",
    "for x in range(len(apple)):\n",
    "    print(x)\n",
    "   \n",
    "    print(apple[x])\n"
   ]
  },
  {
   "cell_type": "code",
   "execution_count": 8,
   "id": "43ab7d1e",
   "metadata": {},
   "outputs": [
    {
     "name": "stdout",
     "output_type": "stream",
     "text": [
      "7\n"
     ]
    }
   ],
   "source": [
    " print(apple[x])"
   ]
  },
  {
   "cell_type": "code",
   "execution_count": 42,
   "id": "eb8cd714",
   "metadata": {},
   "outputs": [
    {
     "name": "stdout",
     "output_type": "stream",
     "text": [
      "Enter value1:12\n",
      "Enter value2:34\n",
      "Enter value3:34\n",
      "Enter value4:12\n",
      "Enter value5:56\n",
      "Enter value6:90\n",
      "Enter value7:87\n",
      "Enter value8:66\n",
      "Enter value9:55\n",
      "Enter value10:33\n",
      "Even:7\n",
      "odd: 3\n"
     ]
    }
   ],
   "source": [
    "even=0\n",
    "odd=0\n",
    "for i in range(1,11):\n",
    "    num=int(input(f'Enter value{i}:'))\n",
    "    if num % 2 ==0:\n",
    "        even+=1\n",
    "        \n",
    "    else:\n",
    "        odd+=1\n",
    "print(f'Even:{even}\\nodd: {odd}')\n",
    "        \n",
    "    \n"
   ]
  },
  {
   "cell_type": "code",
   "execution_count": 11,
   "id": "7dc74a5c",
   "metadata": {
    "scrolled": true
   },
   "outputs": [
    {
     "name": "stdout",
     "output_type": "stream",
     "text": [
      "Enter value1:12\n",
      "Enter value2:34\n",
      "Enter value3:2\n",
      "Enter value4:4\n",
      "Enter value5:8\n",
      "Enter value6:7\n",
      "Enter value7:5\n",
      "Enter value8:90\n",
      "Enter value9:45\n",
      "Enter value10:34\n",
      "Even:[12, 34, 2, 4, 8, 90, 34]\n",
      "odd: [7, 5, 45]\n"
     ]
    }
   ],
   "source": [
    "even=[]\n",
    "odd=[]\n",
    "for i in range(1,11):\n",
    "    num=int(input(f'Enter value{i}:'))\n",
    "    if num % 2 ==0:\n",
    "        even.append(num)\n",
    "    else:\n",
    "        odd.append(num)\n",
    "print(f'Even:{even}\\nodd: {odd}')"
   ]
  },
  {
   "cell_type": "code",
   "execution_count": 16,
   "id": "2e6371d1",
   "metadata": {},
   "outputs": [
    {
     "name": "stdout",
     "output_type": "stream",
     "text": [
      "[1]:celsius to fahrenheit\n",
      "[2]fahrenheit to celsius\n",
      "Enter option:2\n",
      "Enter temperture:50\n",
      "temp: 10.0C\n"
     ]
    }
   ],
   "source": [
    "option=input('[1]:celsius to fahrenheit\\n[2]fahrenheit to celsius\\nEnter option:')\n",
    "temp= float(input('Enter temperture:'))\n",
    "if option == '1':\n",
    "    res = (temp * 9/5) +32\n",
    "    print(f'temp: {res}F')\n",
    "elif option =='2':\n",
    "    res = (temp - 32) * 5/9\n",
    "    print(f'temp: {res}C')"
   ]
  },
  {
   "cell_type": "code",
   "execution_count": null,
   "id": "fdd44403",
   "metadata": {},
   "outputs": [],
   "source": [
    "datalist=[1452,11.23,1+2j,True,'w3resource',]"
   ]
  },
  {
   "cell_type": "code",
   "execution_count": 18,
   "id": "97966667",
   "metadata": {},
   "outputs": [
    {
     "name": "stdout",
     "output_type": "stream",
     "text": [
      "Enter a number:28\n",
      "[1, 2, 4, 7, 14] 28\n",
      "28 is a perfect number\n"
     ]
    }
   ],
   "source": [
    "num = int(input('Enter a number:'))\n",
    "divisors=[]\n",
    "if num > 0:\n",
    "    for i in range(1, ((num)//2)+1):\n",
    "        if num % i==0:\n",
    "            divisors.append(i)\n",
    "    print(divisors,num)\n",
    "    if sum(divisors)==num:\n",
    "        print(f'{num} is a perfect number')\n",
    "   \n",
    "    else:\n",
    "        print(f'{num} is not a perfect number')     \n",
    "        \n",
    "              "
   ]
  },
  {
   "cell_type": "code",
   "execution_count": null,
   "id": "ea0d3762",
   "metadata": {},
   "outputs": [],
   "source": []
  }
 ],
 "metadata": {
  "kernelspec": {
   "display_name": "Python 3",
   "language": "python",
   "name": "python3"
  },
  "language_info": {
   "codemirror_mode": {
    "name": "ipython",
    "version": 3
   },
   "file_extension": ".py",
   "mimetype": "text/x-python",
   "name": "python",
   "nbconvert_exporter": "python",
   "pygments_lexer": "ipython3",
   "version": "3.8.8"
  }
 },
 "nbformat": 4,
 "nbformat_minor": 5
}
